{
 "nbformat": 4,
 "nbformat_minor": 0,
 "metadata": {
  "colab": {
   "provenance": []
  },
  "kernelspec": {
   "name": "python3",
   "display_name": "Python 3"
  },
  "language_info": {
   "name": "python"
  }
 },
 "cells": [
  {
   "cell_type": "code",
   "source": [
    "import pickle\n",
    "import gradio as gr\n",
    "import pandas as pd\n",
    "import numpy as np"
   ],
   "metadata": {
    "id": "mZ7iciHijRKb",
    "pycharm": {
     "name": "#%%\n"
    }
   },
   "execution_count": 3,
   "outputs": [
    {
     "name": "stderr",
     "output_type": "stream",
     "text": [
      "C:\\Users\\Mehmet Arif\\AppData\\Roaming\\Python\\Python310\\site-packages\\tqdm\\auto.py:22: TqdmWarning: IProgress not found. Please update jupyter and ipywidgets. See https://ipywidgets.readthedocs.io/en/stable/user_install.html\n",
      "  from .autonotebook import tqdm as notebook_tqdm\n"
     ]
    }
   ]
  },
  {
   "cell_type": "code",
   "source": [
    "filepath = 'stroke_model.pkl'\n",
    "model = pickle.load(open(filepath, 'rb'))"
   ],
   "metadata": {
    "id": "Iu5mDdsai6WN",
    "pycharm": {
     "name": "#%%\n"
    }
   },
   "execution_count": 4,
   "outputs": []
  },
  {
   "cell_type": "code",
   "source": [
    "\n",
    "\n",
    "def predict(name,gender,age,hypertension,heart_disease,ever_married,work_type,avg_glucose_level,weight,height,smoking_status):\n",
    "\n",
    "    if not avg_glucose_level:\n",
    "      avg_glucose_level = \"99\"\n",
    "\n",
    "    if gender == \"Male\":\n",
    "        gender = int(1)\n",
    "    else:\n",
    "        gender = int(0)\n",
    "    \n",
    "    hypertension_cv = int(hypertension == True)\n",
    "    ever_married_cv = int(ever_married == True)\n",
    "    heart_disease_cv = int(heart_disease == True)\n",
    "    \n",
    "    if work_type == \"Private\":\n",
    "        work_type = 2\n",
    "    elif work_type == \"Self-Employed\":\n",
    "        work_type = 4\n",
    "    elif work_type == \"Children\":\n",
    "        work_type = 1\n",
    "    elif work_type == \"Government Job\":\n",
    "        work_type = 3\n",
    "    elif work_type == \"Never Worked\":\n",
    "        work_type = 0\n",
    "        \n",
    "    bmi = float(weight)/ float(height)**2\n",
    "    \n",
    "    if bmi > 30:\n",
    "        obese = 1\n",
    "    else:\n",
    "        obese =0\n",
    "    if bmi > 40:\n",
    "        morbid = 1\n",
    "    else:\n",
    "        morbid = 0\n",
    "      \n",
    "    risk_factors = 0 + (1 if float(avg_glucose_level) > 99 else 0) + \\\n",
    "              (1 if age > 45 else 0) + \\\n",
    "              (1 if bmi > 24.99 else 0) + \\\n",
    "              (1 if hypertension == 1 else 0) + \\\n",
    "              (1 if heart_disease == 1 else 0) + \\\n",
    "              (1 if smoking_status in ['Formerly Smoked', 'Smokes'] else 0)\n",
    "    smoking_status_Unknown = 0\n",
    "    smoking_status_formerly = 0\n",
    "    smoking_status_never = 0\n",
    "    smoking_status_smokes = 0\n",
    "\n",
    "    if smoking_status == \"I Don't Wanna Say\":\n",
    "        smoking_status_Unknown = 1\n",
    "    elif smoking_status == \"Never Smoked\":\n",
    "        smoking_status_never = 1\n",
    "    elif smoking_status == \"Formerly Smoked\":\n",
    "        smoking_status_formerly = 1\n",
    "    elif smoking_status == \"Smokes\":\n",
    "        smoking_status_smokes = 1\n",
    "    \n",
    "\n",
    "    df_pred = pd.DataFrame({    \n",
    "        \"gender\": [gender],\n",
    "        \"age\" : [float(age)],\n",
    "        \"hypertension\": [hypertension_cv],\n",
    "        \"ever_married\": [ever_married_cv],\n",
    "        \"heart_disease\" : [heart_disease_cv],\n",
    "        \"work_type\": [work_type],\n",
    "        \"avg_glucose_level\": [float(avg_glucose_level)],\n",
    "        \"bmi\": [bmi],\n",
    "        \"morbid\" : [morbid],\n",
    "        \"obese\": [obese],\n",
    "        \"risk_factors\" : [risk_factors],\n",
    "        \"smoking_status_Unknown\" : [np.uint8(smoking_status_Unknown)],\n",
    "        \"smoking_status_formerly smoked\": [np.uint8(smoking_status_formerly)],\n",
    "        \"smoking_status_never smoked\" : [np.uint8(smoking_status_never)],\n",
    "        \"smoking_status_smokes\" : [np.uint8(smoking_status_smokes)]\n",
    "    })\n",
    "    valu = model.predict_proba(df_pred)[:, 1][0]\n",
    "        \n",
    "    return \"Hello Dear \" + name +\\\n",
    "\", Welcome\\n\\n\" + \"Your risk rate is: %\" + str(valu*100) + \"\\n\\n\" +\\\n",
    "(\"Your risk of stroke is below the average.\\n\\n For our other services you can contact with us via 444 04 44 \" if valu < 0.037492 else \"\") +\\\n",
    "(\"Your risk of stroke is above the average! Please contact with our hospital to check up \\n\\nYou can contact via 444 04 44 \" if valu >= 0.037492 else \"\")+\\\n",
    "\"\\n\\nHave a healthy day\\n\"\n",
    "\n",
    "demo = gr.Interface(fn=predict,\n",
    "                    inputs=[gr.Textbox(label = \"Your name\"),\n",
    "                            gr.Radio([\"Male\",\"Female\"], label = \"Your gender\", info = \"Are you XX or XY\"),\n",
    "                            gr.Slider(0, 120, label = \"How old are you?\"),\n",
    "                            gr.Checkbox(label = \"I have hypertension\"),\n",
    "                            gr.Checkbox(label = \"I have a heart disease\"),\n",
    "                            gr.Checkbox(label = \"I have married at least once\"),\n",
    "                            gr.Radio([\"Private\",\"Self-Employed\",\"Children\",\"Government Job\", \"Never Worked\"], label= \"What's your work type\"),\n",
    "                            gr.Textbox(label = \"Your average glucose level\",placeholder = \"It is set 99 mg/dL by default\" ,info = \" If you don't know your average glucose level, \\\n",
    "                            you can leave blank here. However, it is highly recommended to get information about it for a better result. You can contact with us via 444 04 44 to \\\n",
    "                            find out your exact average glucose level.\"),\n",
    "                            gr.Textbox(label = \"Your body weight\", info = \"In kilograms\"),\n",
    "                            gr.Textbox(label = \"Your body height\", info = \"In meters e.g. 1.70\" ),\n",
    "                            gr.Radio([\"I Don't Wanna Say\", \"Never Smoked\", \"Formerly Smoked\", \"Smokes\"], label = \"Your smoking status\",\n",
    "                                     info = \"Smoking kills\")\n",
    "                            ],\n",
    "                    outputs = gr.Textbox(label = \"Result\"),\n",
    "                    #css=\"body {background-color: blue}\",\n",
    "                    title = \"IKC™ Hospital Stroke Prediction Service\",\n",
    "                    article = \"Provided by Insafsız Kudret Cemiyeti™\",\n",
    "                    theme=gr.themes.Default(primary_hue=gr.themes.colors.pink, secondary_hue=gr.themes.colors.rose)\n",
    "                   )\n",
    "                    \n",
    "demo.launch(share = True)\n",
    "\n",
    "#gender: male,female\n",
    "#age: int\n",
    "#hypertension: 0,1\n",
    "#heart_disease: 0,1\n",
    "#ever_married: Yes,No\n",
    "#work_type: 0,1,2,3,4\n",
    "#avg_glucose_level: int\n",
    "#bmi: int\n",
    "#smoking_status: \"Unknown\", \"Never Smoked\", \"Formerly Smoked\", \"Smokes\"\n"
   ],
   "metadata": {
    "colab": {
     "base_uri": "https://localhost:8080/",
     "height": 591
    },
    "id": "dKbHoyUvjTkt",
    "outputId": "5f74c552-8382-4bd1-ec8a-dfa54d831396",
    "pycharm": {
     "name": "#%%\n"
    }
   },
   "execution_count": 5,
   "outputs": [
    {
     "name": "stdout",
     "output_type": "stream",
     "text": [
      "Running on local URL:  http://127.0.0.1:7860\n",
      "\n",
      "Could not create share link. Please check your internet connection or our status page: https://status.gradio.app\n"
     ]
    },
    {
     "data": {
      "text/plain": "<IPython.core.display.HTML object>",
      "text/html": "<div><iframe src=\"http://127.0.0.1:7860/\" width=\"100%\" height=\"500\" allow=\"autoplay; camera; microphone; clipboard-read; clipboard-write;\" frameborder=\"0\" allowfullscreen></iframe></div>"
     },
     "metadata": {},
     "output_type": "display_data"
    },
    {
     "data": {
      "text/plain": ""
     },
     "execution_count": 5,
     "metadata": {},
     "output_type": "execute_result"
    }
   ]
  }
 ]
}